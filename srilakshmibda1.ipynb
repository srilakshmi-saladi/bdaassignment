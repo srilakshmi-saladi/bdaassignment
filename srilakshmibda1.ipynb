{
  "nbformat": 4,
  "nbformat_minor": 0,
  "metadata": {
    "colab": {
      "provenance": [],
      "gpuType": "T4",
      "authorship_tag": "ABX9TyO8i0sAlofyeVhdnDc7M24m",
      "include_colab_link": true
    },
    "kernelspec": {
      "name": "python3",
      "display_name": "Python 3"
    },
    "language_info": {
      "name": "python"
    },
    "accelerator": "GPU"
  },
  "cells": [
    {
      "cell_type": "markdown",
      "metadata": {
        "id": "view-in-github",
        "colab_type": "text"
      },
      "source": [
        "<a href=\"https://colab.research.google.com/github/srilakshmi-saladi/bdaassignment/blob/main/srilakshmibda1.ipynb\" target=\"_parent\"><img src=\"https://colab.research.google.com/assets/colab-badge.svg\" alt=\"Open In Colab\"/></a>"
      ]
    },
    {
      "cell_type": "code",
      "execution_count": 1,
      "metadata": {
        "colab": {
          "base_uri": "https://localhost:8080/"
        },
        "id": "_HV9D5f92hvm",
        "outputId": "5d8492c9-67d1-47b8-c4fd-2bcdb2ccb714"
      },
      "outputs": [
        {
          "output_type": "stream",
          "name": "stdout",
          "text": [
            "Mounted at /content/drive\n"
          ]
        }
      ],
      "source": [
        "from google.colab import drive\n",
        "drive.mount('/content/drive')"
      ]
    },
    {
      "cell_type": "markdown",
      "source": [
        "String manipulation"
      ],
      "metadata": {
        "id": "oyWMKdqn7Kun"
      }
    },
    {
      "cell_type": "code",
      "source": [
        "\n",
        "print(\"A: String Manipulation\")\n",
        "\n",
        "\n",
        "input_str = input(\"Enter the string (e.g., Python): \")\n",
        "\n",
        "\n",
        "char_list = list(input_str)\n",
        "\n",
        "if len(char_list) >= 2:\n",
        "    char_list = char_list[:-2]\n",
        "else:\n",
        "    print(\"Input is too short to remove last two characters.\")\n",
        "\n",
        "\n",
        "char_list.reverse()\n",
        "\n",
        "\n",
        "print(\"Modified and reversed string:\", ''.join(char_list))\n"
      ],
      "metadata": {
        "colab": {
          "base_uri": "https://localhost:8080/"
        },
        "id": "31B3Li_s5juA",
        "outputId": "8a096475-1cd1-43ba-f63d-35d8707839bf"
      },
      "execution_count": 13,
      "outputs": [
        {
          "output_type": "stream",
          "name": "stdout",
          "text": [
            "A: String Manipulation\n",
            "Enter the string (e.g., Python): srilu\n",
            "Modified and reversed string: irs\n"
          ]
        }
      ]
    },
    {
      "cell_type": "markdown",
      "source": [
        "Arithmetic Operations"
      ],
      "metadata": {
        "id": "kTGfFggw7GiA"
      }
    },
    {
      "cell_type": "code",
      "source": [
        "\n",
        "print(\"B: Arithmetic Operations\")\n",
        "\n",
        "\n",
        "num1 = float(input(\"Enter the first number: \"))\n",
        "num2 = float(input(\"Enter the second number: \"))\n",
        "\n",
        "\n",
        "print(f\"\\nAddition: {num1} + {num2} = {num1 + num2}\")\n",
        "print(f\"Subtraction: {num1} - {num2} = {num1 - num2}\")\n",
        "print(f\"Multiplication: {num1} * {num2} = {num1 * num2}\")\n",
        "\n",
        "\n",
        "if num2 != 0:\n",
        "    print(f\"Division: {num1} / {num2} = {num1 / num2}\")\n",
        "else:\n",
        "    print(\"Division: Cannot divide by zero.\")\n"
      ],
      "metadata": {
        "colab": {
          "base_uri": "https://localhost:8080/"
        },
        "id": "BpFjJd066wis",
        "outputId": "4d8663ad-7446-42f9-be12-3f8e4ac96d49"
      },
      "execution_count": 14,
      "outputs": [
        {
          "output_type": "stream",
          "name": "stdout",
          "text": [
            "B: Arithmetic Operations\n",
            "Enter the first number: 10\n",
            "Enter the second number: 5\n",
            "\n",
            "Addition: 10.0 + 5.0 = 15.0\n",
            "Subtraction: 10.0 - 5.0 = 5.0\n",
            "Multiplication: 10.0 * 5.0 = 50.0\n",
            "Division: 10.0 / 5.0 = 2.0\n"
          ]
        }
      ]
    },
    {
      "cell_type": "code",
      "source": [
        "print(\"C: Replace 'python' with 'pythons' \")\n",
        "\n",
        "sentence = input(\"Enter a sentence: \")\n",
        "\n",
        "\n",
        "updated_sentence = sentence.replace(\"python\", \"pythons\")\n",
        "\n",
        "\n",
        "print(\"Updated sentence:\", updated_sentence)"
      ],
      "metadata": {
        "colab": {
          "base_uri": "https://localhost:8080/"
        },
        "id": "YCxBUZlT7Tn_",
        "outputId": "34b9a7ce-daaf-4a50-e669-8b53f7b8739f"
      },
      "execution_count": 15,
      "outputs": [
        {
          "output_type": "stream",
          "name": "stdout",
          "text": [
            "C: Replace 'python' with 'pythons' \n",
            "Enter a sentence: python is easy to lean\n",
            "Updated sentence: pythons is easy to lean\n"
          ]
        }
      ]
    },
    {
      "cell_type": "code",
      "source": [
        "\n",
        "print(\"D: Grade Calculator\")\n",
        "\n",
        "score = float(input(\"Enter your class score (0–100): \"))\n",
        "\n",
        "if score >= 90 and score <= 100:\n",
        "    grade = 'A'\n",
        "elif score >= 80:\n",
        "    grade = 'B'\n",
        "elif score >= 70:\n",
        "    grade = 'C'\n",
        "elif score >= 60:\n",
        "    grade = 'D'\n",
        "elif score >= 0:\n",
        "    grade = 'F'\n",
        "else:\n",
        "    grade = 'Invalid'\n",
        "\n",
        "\n",
        "if grade == 'Invalid' or score > 100:\n",
        "    print(\"Invalid score. Please enter a number between 0 and 100.\")\n",
        "else:\n",
        "    print(f\"Your grade is: {grade}\")\n"
      ],
      "metadata": {
        "colab": {
          "base_uri": "https://localhost:8080/"
        },
        "id": "b0cbWZ3-70Mg",
        "outputId": "49393f9c-35fa-4bb5-cc1c-27ca63b08592"
      },
      "execution_count": 16,
      "outputs": [
        {
          "output_type": "stream",
          "name": "stdout",
          "text": [
            "D: Grade Calculator\n",
            "Enter your class score (0–100): 75\n",
            "Your grade is: C\n"
          ]
        }
      ]
    },
    {
      "cell_type": "code",
      "source": [
        "x = [23, 'Python', 23.98]\n",
        "\n",
        "\n",
        "print(x)\n",
        "\n",
        "types_list = []\n",
        "\n",
        "\n",
        "for element in x:\n",
        "    types_list.append(type(element))\n",
        "\n",
        "print(types_list)"
      ],
      "metadata": {
        "colab": {
          "base_uri": "https://localhost:8080/"
        },
        "id": "6IjlJykF8JXQ",
        "outputId": "ffe0d25f-893f-4549-85f0-6b50b1643827"
      },
      "execution_count": 11,
      "outputs": [
        {
          "output_type": "stream",
          "name": "stdout",
          "text": [
            "[23, 'Python', 23.98]\n",
            "[<class 'int'>, <class 'str'>, <class 'float'>]\n"
          ]
        }
      ]
    },
    {
      "cell_type": "code",
      "source": [
        "\n",
        "IT_companies = {'Facebook', 'Google', 'Microsoft', 'Apple', 'IBM', 'Oracle', 'Amazon'}\n",
        "A = {19, 22, 24, 20, 25, 26}\n",
        "B = {19, 22, 20, 25, 26, 24, 28, 27}\n",
        "age = [22, 19, 24, 25, 26, 24, 25, 24]\n",
        "\n",
        "\n",
        "print(\"Length of IT_companies:\", len(IT_companies))\n",
        "\n",
        "IT_companies.add('Twitter')\n",
        "print(\"After adding Twitter:\", IT_companies)\n",
        "\n",
        "\n",
        "IT_companies.update(['LinkedIn', 'Snapchat', 'Salesforce'])\n",
        "print(\"After adding multiple companies:\", IT_companies)\n",
        "\n",
        "\n",
        "IT_companies.remove('IBM')\n",
        "print(\"After removing IBM:\", IT_companies)\n",
        "\n",
        "\n",
        "IT_companies.discard('NonExistentCompany')\n",
        "\n",
        "union_set = A.union(B)\n",
        "print(\"Union of A and B:\", union_set)\n",
        "\n",
        "intersection_set = A.intersection(B)\n",
        "print(\"Intersection of A and B:\", intersection_set)\n",
        "\n",
        "\n",
        "print(\"Is A subset of B?\", A.issubset(B))\n",
        "\n",
        "\n",
        "print(\"Are A and B disjoint?\", A.isdisjoint(B))\n",
        "\n",
        "print(\"A union B:\", A | B)\n",
        "print(\"B union A:\", B | A)\n",
        "\n",
        "\n",
        "sym_diff = A.symmetric_difference(B)\n",
        "print(\"Symmetric difference between A and B:\", sym_diff)\n",
        "\n",
        "\n",
        "del A\n",
        "del B\n",
        "\n",
        "\n",
        "age_set = set(age)\n",
        "print(\"Length of age list:\", len(age))\n",
        "print(\"Length of age set:\", len(age_set))\n"
      ],
      "metadata": {
        "colab": {
          "base_uri": "https://localhost:8080/"
        },
        "id": "OyBhRZ9A8-s8",
        "outputId": "6f6f3eda-6b43-4b1d-d368-37685a15d75b"
      },
      "execution_count": 12,
      "outputs": [
        {
          "output_type": "stream",
          "name": "stdout",
          "text": [
            "Length of IT_companies: 7\n",
            "After adding Twitter: {'Apple', 'IBM', 'Oracle', 'Google', 'Microsoft', 'Twitter', 'Amazon', 'Facebook'}\n",
            "After adding multiple companies: {'Twitter', 'IBM', 'Facebook', 'LinkedIn', 'Apple', 'Snapchat', 'Salesforce', 'Oracle', 'Amazon', 'Microsoft', 'Google'}\n",
            "After removing IBM: {'Twitter', 'Facebook', 'LinkedIn', 'Apple', 'Snapchat', 'Salesforce', 'Oracle', 'Amazon', 'Microsoft', 'Google'}\n",
            "Union of A and B: {19, 20, 22, 24, 25, 26, 27, 28}\n",
            "Intersection of A and B: {19, 20, 22, 24, 25, 26}\n",
            "Is A subset of B? True\n",
            "Are A and B disjoint? False\n",
            "A union B: {19, 20, 22, 24, 25, 26, 27, 28}\n",
            "B union A: {19, 20, 22, 24, 25, 26, 27, 28}\n",
            "Symmetric difference between A and B: {27, 28}\n",
            "Length of age list: 8\n",
            "Length of age set: 5\n"
          ]
        }
      ]
    }
  ]
}
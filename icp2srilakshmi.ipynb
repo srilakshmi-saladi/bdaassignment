{
  "nbformat": 4,
  "nbformat_minor": 0,
  "metadata": {
    "colab": {
      "provenance": [],
      "authorship_tag": "ABX9TyPAFztqBQow4yhbrsgk2qYJ",
      "include_colab_link": true
    },
    "kernelspec": {
      "name": "python3",
      "display_name": "Python 3"
    },
    "language_info": {
      "name": "python"
    }
  },
  "cells": [
    {
      "cell_type": "markdown",
      "metadata": {
        "id": "view-in-github",
        "colab_type": "text"
      },
      "source": [
        "<a href=\"https://colab.research.google.com/github/srilakshmi-saladi/bdaassignment/blob/main/icp2srilakshmi.ipynb\" target=\"_parent\"><img src=\"https://colab.research.google.com/assets/colab-badge.svg\" alt=\"Open In Colab\"/></a>"
      ]
    },
    {
      "cell_type": "code",
      "execution_count": 17,
      "metadata": {
        "colab": {
          "base_uri": "https://localhost:8080/"
        },
        "id": "iyan3A9tGdFo",
        "outputId": "3f1e5d41-1c82-4545-9f14-50cb2cdce925"
      },
      "outputs": [
        {
          "output_type": "stream",
          "name": "stdout",
          "text": [
            "Explain the difference between Counter.count and self._count.? Counter.count belongs to class and gets increment everytime we create a instance of the class as we called increment for count1 twice and count2 once so it will be 3,  and self._count it belongs to particular instance ,it increments separately thats why count1 instance variable is 2 and count2 instance count is 1 \n",
            "Instancecount:2, Classcount:3\n",
            "Instancecount:1, Classcount:3\n",
            "count belongs to the class,so it increments when we create instance of the class, where as instance variables belong to each object and maintain their own separate values\n"
          ]
        }
      ],
      "source": [
        "class Counter:\n",
        "    count = 0  # classvariable\n",
        "\n",
        "    def __init__(self):\n",
        "        self._count = 0  # Instancevariable\n",
        "\n",
        "    def increment(self):\n",
        "        self._count += 1\n",
        "        Counter.count += 1\n",
        "\n",
        "    def get_counts(self):\n",
        "        return f\"Instancecount:{self._count}, Classcount:{Counter.count}\"\n",
        "\n",
        "\n",
        "count1 = Counter()\n",
        "count2 = Counter()\n",
        "\n",
        "count1.increment()\n",
        "count1.increment()\n",
        "\n",
        "count2.increment()\n",
        "\n",
        "\n",
        "print(\"Explain the difference between Counter.count and self._count.? Counter.count belongs to class and gets increment everytime we create a instance of the class as we called increment for count1 twice and count2 once so it will be 3,  and self._count it belongs to particular instance ,it increments separately thats why count1 instance variable is 2 and count2 instance count is 1 \")\n",
        "print(count1.get_counts())\n",
        "print(count2.get_counts())\n",
        "print(\"count belongs to the class,so it increments when we create instance of the class, where as instance variables belong to each object and maintain their own separate values\")\n"
      ]
    },
    {
      "cell_type": "code",
      "source": [
        "#varargs accepts one or more arguments\n",
        "def sum_all(*args):\n",
        "    return sum(args)\n",
        "\n",
        "print(\"Sum of 1, 2, 3 is:\", sum_all(1, 2, 3))\n",
        "print(\"Sum of 4, 5, 6, 7 is:\", sum_all(4, 5, 6, 7))\n",
        "print(\"varargs accepts one or more arguments\")"
      ],
      "metadata": {
        "colab": {
          "base_uri": "https://localhost:8080/"
        },
        "id": "1yr9piftHeBS",
        "outputId": "a8ee2f09-8a2f-44f6-f0af-1a5e1a732a5c"
      },
      "execution_count": 18,
      "outputs": [
        {
          "output_type": "stream",
          "name": "stdout",
          "text": [
            "Sum of 1, 2, 3 is: 6\n",
            "Sum of 4, 5, 6, 7 is: 22\n",
            "varargs accepts one or more arguments\n"
          ]
        }
      ]
    },
    {
      "cell_type": "code",
      "source": [
        "def first_word(word_list):\n",
        "    sort_list = sorted(word_list)\n",
        "    return sort_list[0]\n",
        "\n",
        "\n",
        "students = ['Mary','Zelda', 'Jimmy', 'Jack','Bartholomew','Gertrude']\n",
        "print(first_word(students))\n"
      ],
      "metadata": {
        "colab": {
          "base_uri": "https://localhost:8080/"
        },
        "id": "htUTAAxeGgkC",
        "outputId": "c3b836dc-e798-41c3-b4a8-efa7813d6712"
      },
      "execution_count": 1,
      "outputs": [
        {
          "output_type": "stream",
          "name": "stdout",
          "text": [
            "Bartholomew\n"
          ]
        }
      ]
    },
    {
      "cell_type": "code",
      "source": [
        "\n",
        "class Employee:\n",
        "\n",
        "    emp_count = 0\n",
        "    all_emp_salaries = []\n",
        "\n",
        "    def __init__(self, name, family, salary, department):\n",
        "        self.name = name\n",
        "        self.family = family\n",
        "        self.salary = salary\n",
        "        self.department = department\n",
        "        # counting no of employees with class variable\n",
        "        Employee.emp_count += 1\n",
        "        # adding salary to a array\n",
        "        Employee.all_emp_salaries.append(salary)\n",
        "\n",
        "    @classmethod\n",
        "    def average_salary(cls):\n",
        "        if cls.all_emp_salaries:\n",
        "            return sum(cls.all_emp_salaries) / len(cls.all_emp_salaries)\n",
        "        else:\n",
        "            return 0\n",
        "\n",
        "    def display(self):\n",
        "        print(f\"Name: {self.name}, Family: {self.family}, Salary: {self.salary}, Department: {self.department}\")\n",
        "\n",
        "\n",
        "class FulltimeEmployee(Employee):\n",
        "    def __init__(self, name, family, salary, department):\n",
        "        super().__init__(name, family, salary, department)\n",
        "\n",
        "\n",
        "if __name__ == \"__main__\":\n",
        "    emp1 = Employee(\"Sri\", \"Saladi\", 50000, \"Engineering\")\n",
        "    emp2 = FulltimeEmployee(\"Mani\", \"Kumar\", 60000, \"HR\")\n",
        "    emp3 = FulltimeEmployee(\"Sunny\", \"Bodapati\", 55000, \"Marketing\")\n",
        "\n",
        "    emp1.display()\n",
        "    emp2.display()\n",
        "    emp3.display()\n",
        "    print(\"Total number of employees are : \", Employee.emp_count)\n",
        "    print(\"Average salary of employees :\", Employee.average_salary())\n"
      ],
      "metadata": {
        "colab": {
          "base_uri": "https://localhost:8080/"
        },
        "id": "ZaXEyE4iGjO6",
        "outputId": "9f67249e-dc9d-4ca4-c8ba-a8233e9e661f"
      },
      "execution_count": 15,
      "outputs": [
        {
          "output_type": "stream",
          "name": "stdout",
          "text": [
            "Name: Sri, Family: Saladi, Salary: 50000, Department: Engineering\n",
            "Name: Mani, Family: Kumar, Salary: 60000, Department: HR\n",
            "Name: Sunny, Family: Bodapati, Salary: 55000, Department: Marketing\n",
            "Total number of employees are :  3\n",
            "Average salary of employees : 55000.0\n"
          ]
        }
      ]
    }
  ]
}
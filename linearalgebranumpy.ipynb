{
  "nbformat": 4,
  "nbformat_minor": 0,
  "metadata": {
    "colab": {
      "provenance": [],
      "authorship_tag": "ABX9TyPn3UoyOKOpx9lH+oxcQVEx",
      "include_colab_link": true
    },
    "kernelspec": {
      "name": "python3",
      "display_name": "Python 3"
    },
    "language_info": {
      "name": "python"
    }
  },
  "cells": [
    {
      "cell_type": "markdown",
      "metadata": {
        "id": "view-in-github",
        "colab_type": "text"
      },
      "source": [
        "<a href=\"https://colab.research.google.com/github/srilakshmi-saladi/bdaassignment/blob/main/linearalgebranumpy.ipynb\" target=\"_parent\"><img src=\"https://colab.research.google.com/assets/colab-badge.svg\" alt=\"Open In Colab\"/></a>"
      ]
    },
    {
      "cell_type": "code",
      "execution_count": null,
      "metadata": {
        "id": "MQRCKKNjruoK"
      },
      "outputs": [],
      "source": []
    },
    {
      "cell_type": "code",
      "source": [
        "import numpy as np\n",
        "\n",
        "arr = np.random.randint(1, 21, size=15)\n",
        "\n",
        "reshaped_arr = arr.reshape(3, 5)\n",
        "\n",
        "\n",
        "print(\"Shape of array:\", reshaped_arr.shape)\n",
        "\n",
        "print(\"Shape of array Before:\", reshaped_arr)\n",
        "\n",
        "for i in range(reshaped_arr.shape[0]):\n",
        "    max_index = reshaped_arr[i].argmax()\n",
        "    reshaped_arr[i, max_index] = 0\n",
        "\n",
        "print(\"Modified array:\\n\", reshaped_arr)\n"
      ],
      "metadata": {
        "colab": {
          "base_uri": "https://localhost:8080/"
        },
        "id": "BtdVrAA_sIiI",
        "outputId": "b3d6967e-6825-43e6-81ec-20d5135efad7"
      },
      "execution_count": 3,
      "outputs": [
        {
          "output_type": "stream",
          "name": "stdout",
          "text": [
            "Shape of array: (3, 5)\n",
            "Shape of array Before: [[ 1  7  6 13  4]\n",
            " [12  2 20  2 16]\n",
            " [15 17  6  5 11]]\n",
            "Modified array:\n",
            " [[ 1  7  6  0  4]\n",
            " [12  2  0  2 16]\n",
            " [15  0  6  5 11]]\n"
          ]
        }
      ]
    },
    {
      "cell_type": "code",
      "source": [
        "import numpy as np\n",
        "\n",
        "\n",
        "arr = np.array([[1, 2, 3],\n",
        "                [4, 5, 6],\n",
        "                [7, 8, 9],\n",
        "                [10, 11, 12]], dtype=np.int32)\n",
        "\n",
        "\n",
        "print(\"Array:\\n\", arr)\n",
        "\n",
        "\n",
        "print(\"Shape:\", arr.shape)\n",
        "\n",
        "print(\"Type:\", type(arr))\n",
        "print(\"Data type:\", arr.dtype)\n"
      ],
      "metadata": {
        "colab": {
          "base_uri": "https://localhost:8080/"
        },
        "id": "IKhdwuc-sblw",
        "outputId": "8fbc2998-5cca-481f-8390-14919e6ac917"
      },
      "execution_count": 4,
      "outputs": [
        {
          "output_type": "stream",
          "name": "stdout",
          "text": [
            "Array:\n",
            " [[ 1  2  3]\n",
            " [ 4  5  6]\n",
            " [ 7  8  9]\n",
            " [10 11 12]]\n",
            "Shape: (4, 3)\n",
            "Type: <class 'numpy.ndarray'>\n",
            "Data type: int32\n"
          ]
        }
      ]
    },
    {
      "cell_type": "code",
      "source": [
        "import numpy as np\n",
        "\n",
        "\n",
        "A = np.array([[3, -2],\n",
        "              [1,  0]])\n",
        "\n",
        "eigenvalues, eigenvectors = np.linalg.eig(A)\n",
        "\n",
        "\n",
        "print(\"Eigenvalues:\\n\", eigenvalues)\n",
        "print(\"\\nRight Eigenvectors:\\n\", eigenvectors)\n"
      ],
      "metadata": {
        "colab": {
          "base_uri": "https://localhost:8080/"
        },
        "id": "7HPq5BqOsyO5",
        "outputId": "1b6f21bd-73cf-4afc-d543-cbcd4c993e4a"
      },
      "execution_count": 5,
      "outputs": [
        {
          "output_type": "stream",
          "name": "stdout",
          "text": [
            "Eigenvalues:\n",
            " [2. 1.]\n",
            "\n",
            "Right Eigenvectors:\n",
            " [[0.89442719 0.70710678]\n",
            " [0.4472136  0.70710678]]\n"
          ]
        }
      ]
    },
    {
      "cell_type": "code",
      "source": [
        "import numpy as np\n",
        "\n",
        "arr = np.array([[0, 1, 2],\n",
        "                [3, 4, 5]])\n",
        "\n",
        "\n",
        "diag_sum = np.trace(arr)\n",
        "\n",
        "print(\"Sum of diagonal elements:\", diag_sum)\n"
      ],
      "metadata": {
        "colab": {
          "base_uri": "https://localhost:8080/"
        },
        "id": "FKgZpQIStYrA",
        "outputId": "12e00a95-a50f-493b-d4eb-176be9ed26f6"
      },
      "execution_count": 6,
      "outputs": [
        {
          "output_type": "stream",
          "name": "stdout",
          "text": [
            "Sum of diagonal elements: 4\n"
          ]
        }
      ]
    },
    {
      "cell_type": "code",
      "source": [
        "import numpy as np\n",
        "\n",
        "arr = np.array([[1, 2],\n",
        "                [3, 4],\n",
        "                [5, 6]])\n",
        "\n",
        "print(\"Original array (3x2):\")\n",
        "print(arr)\n",
        "\n",
        "\n",
        "reshaped_arr = arr.reshape(2, 3)\n",
        "\n",
        "print(\"\\nReshaped array (2x3):\")\n",
        "print(reshaped_arr)\n"
      ],
      "metadata": {
        "colab": {
          "base_uri": "https://localhost:8080/"
        },
        "id": "THnruls_tjwA",
        "outputId": "2599c75a-2d56-44d3-eff5-48aa493753fe"
      },
      "execution_count": 7,
      "outputs": [
        {
          "output_type": "stream",
          "name": "stdout",
          "text": [
            "Original array (3x2):\n",
            "[[1 2]\n",
            " [3 4]\n",
            " [5 6]]\n",
            "\n",
            "Reshaped array (2x3):\n",
            "[[1 2 3]\n",
            " [4 5 6]]\n"
          ]
        }
      ]
    }
  ]
}
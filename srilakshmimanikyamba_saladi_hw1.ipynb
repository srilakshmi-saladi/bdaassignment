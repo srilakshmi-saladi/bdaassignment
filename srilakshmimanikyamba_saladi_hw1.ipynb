{
  "cells": [
    {
      "cell_type": "markdown",
      "metadata": {
        "id": "view-in-github",
        "colab_type": "text"
      },
      "source": [
        "<a href=\"https://colab.research.google.com/github/srilakshmi-saladi/bdaassignment/blob/main/srilakshmimanikyamba_saladi_hw1.ipynb\" target=\"_parent\"><img src=\"https://colab.research.google.com/assets/colab-badge.svg\" alt=\"Open In Colab\"/></a>"
      ]
    },
    {
      "cell_type": "markdown",
      "id": "ff141806",
      "metadata": {
        "id": "ff141806"
      },
      "source": [
        "### Python Review Assignment\n",
        "16 points\n",
        "\n",
        "Due by midnight September 11, 2025\n",
        "\n",
        "\n",
        "**To avoid erasing the sample output, please insert a new cell above the sample output**. Write your script inside the new cell and run. Verify your output with the sample output\n",
        "\n",
        "For lab submission, please rename your file using the following format\n",
        "\n",
        "`firstname_familyname_hw1.ipynb`"
      ]
    },
    {
      "cell_type": "markdown",
      "id": "af69980f",
      "metadata": {
        "id": "af69980f"
      },
      "source": [
        "### please enter your name and 700# in this cell\n",
        "\n",
        "700769896\n",
        "\n",
        "\n"
      ]
    },
    {
      "cell_type": "markdown",
      "id": "a42732b2",
      "metadata": {
        "id": "a42732b2"
      },
      "source": [
        "### Task 1\n",
        "Define a string `s1` with content 'Good morning John'. Count the number of characters in `s1`"
      ]
    },
    {
      "cell_type": "code",
      "execution_count": 2,
      "id": "655c39e8",
      "metadata": {
        "id": "655c39e8"
      },
      "outputs": [],
      "source": [
        "s1 = 'Good morning John'\n"
      ]
    },
    {
      "cell_type": "code",
      "execution_count": 3,
      "id": "e260e38e",
      "metadata": {
        "colab": {
          "base_uri": "https://localhost:8080/"
        },
        "id": "e260e38e",
        "outputId": "5cd9e8b9-9e8a-44f9-8cb8-e2b32b50989f"
      },
      "outputs": [
        {
          "output_type": "execute_result",
          "data": {
            "text/plain": [
              "17"
            ]
          },
          "metadata": {},
          "execution_count": 3
        }
      ],
      "source": [
        "len(s1)"
      ]
    },
    {
      "cell_type": "code",
      "execution_count": null,
      "id": "c29b4bae",
      "metadata": {
        "id": "c29b4bae",
        "outputId": "b93764bb-cf89-4694-9fe0-33cf99940923"
      },
      "outputs": [
        {
          "data": {
            "text/plain": [
              "17"
            ]
          },
          "execution_count": 6,
          "metadata": {},
          "output_type": "execute_result"
        }
      ],
      "source": []
    },
    {
      "cell_type": "markdown",
      "id": "5d91c61d",
      "metadata": {
        "id": "5d91c61d"
      },
      "source": [
        "### Task 2\n",
        "Check if the word 'morning' is contained in `s1`"
      ]
    },
    {
      "cell_type": "code",
      "execution_count": 4,
      "id": "11e47041",
      "metadata": {
        "colab": {
          "base_uri": "https://localhost:8080/"
        },
        "id": "11e47041",
        "outputId": "1dc0e2b2-22b2-4afe-d3f9-bd22a5d3d3b3"
      },
      "outputs": [
        {
          "output_type": "execute_result",
          "data": {
            "text/plain": [
              "True"
            ]
          },
          "metadata": {},
          "execution_count": 4
        }
      ],
      "source": [
        "'morning' in s1"
      ]
    },
    {
      "cell_type": "code",
      "execution_count": null,
      "id": "e22979de",
      "metadata": {
        "id": "e22979de",
        "outputId": "21a7b5fa-68b0-4078-f771-75890e4061cb"
      },
      "outputs": [
        {
          "data": {
            "text/plain": [
              "True"
            ]
          },
          "execution_count": 7,
          "metadata": {},
          "output_type": "execute_result"
        }
      ],
      "source": []
    },
    {
      "cell_type": "markdown",
      "id": "a8e990f2",
      "metadata": {
        "id": "a8e990f2"
      },
      "source": [
        "### Task 3\n",
        "Use a function to replace 'John' with 'David' in `s1`. Show the content of the new string"
      ]
    },
    {
      "cell_type": "code",
      "execution_count": 10,
      "id": "2ceadeb8",
      "metadata": {
        "colab": {
          "base_uri": "https://localhost:8080/",
          "height": 36
        },
        "id": "2ceadeb8",
        "outputId": "4c53e840-d1ac-4ec9-d16d-cb79f945662d"
      },
      "outputs": [
        {
          "output_type": "execute_result",
          "data": {
            "text/plain": [
              "'Good morning David'"
            ],
            "application/vnd.google.colaboratory.intrinsic+json": {
              "type": "string"
            }
          },
          "metadata": {},
          "execution_count": 10
        }
      ],
      "source": [
        "def replace_name(s1):\n",
        "    return s1.replace('John','David')\n",
        "\n",
        "new_s1 = replace_name(s1)\n",
        "new_s1"
      ]
    },
    {
      "cell_type": "code",
      "execution_count": null,
      "id": "133c3b38",
      "metadata": {
        "id": "133c3b38",
        "outputId": "c8048df3-8f06-4e45-a48f-897eac8a68da"
      },
      "outputs": [
        {
          "data": {
            "text/plain": [
              "'Good morning David'"
            ]
          },
          "execution_count": 8,
          "metadata": {},
          "output_type": "execute_result"
        }
      ],
      "source": []
    },
    {
      "cell_type": "markdown",
      "id": "fccce95f",
      "metadata": {
        "id": "fccce95f"
      },
      "source": [
        "### Task 4\n",
        "Use your UCM email address to create a string s2. Extract the string `ucmo.edu`"
      ]
    },
    {
      "cell_type": "code",
      "execution_count": 12,
      "id": "1a4662b4",
      "metadata": {
        "colab": {
          "base_uri": "https://localhost:8080/",
          "height": 36
        },
        "id": "1a4662b4",
        "outputId": "106b8d97-bcb7-44e8-a45b-624900c7c0ed"
      },
      "outputs": [
        {
          "output_type": "execute_result",
          "data": {
            "text/plain": [
              "'ucmo.edu'"
            ],
            "application/vnd.google.colaboratory.intrinsic+json": {
              "type": "string"
            }
          },
          "metadata": {},
          "execution_count": 12
        }
      ],
      "source": [
        "s2 = 'sxv78190@ucmo.edu'\n",
        "s2.split('@')[1]"
      ]
    },
    {
      "cell_type": "code",
      "execution_count": null,
      "id": "61c5f20a",
      "metadata": {
        "id": "61c5f20a",
        "outputId": "d7d2984e-5f50-454d-fa0e-40e07ed0e5e4"
      },
      "outputs": [
        {
          "data": {
            "text/plain": [
              "'ucmo.edu'"
            ]
          },
          "execution_count": 17,
          "metadata": {},
          "output_type": "execute_result"
        }
      ],
      "source": []
    },
    {
      "cell_type": "markdown",
      "id": "c839354c",
      "metadata": {
        "id": "c839354c"
      },
      "source": [
        "### Task 5\n",
        "Create a list x with integers from 1 to 30. Create a new list y which only conatins the odd numbers from list x. You are not allowed to mannually type out the lists"
      ]
    },
    {
      "cell_type": "code",
      "execution_count": 17,
      "id": "f1012d6b",
      "metadata": {
        "colab": {
          "base_uri": "https://localhost:8080/"
        },
        "id": "f1012d6b",
        "outputId": "d939f2a4-31af-4709-ff3c-8acc89a72525"
      },
      "outputs": [
        {
          "output_type": "execute_result",
          "data": {
            "text/plain": [
              "[1,\n",
              " 2,\n",
              " 3,\n",
              " 4,\n",
              " 5,\n",
              " 6,\n",
              " 7,\n",
              " 8,\n",
              " 9,\n",
              " 10,\n",
              " 11,\n",
              " 12,\n",
              " 13,\n",
              " 14,\n",
              " 15,\n",
              " 16,\n",
              " 17,\n",
              " 18,\n",
              " 19,\n",
              " 20,\n",
              " 21,\n",
              " 22,\n",
              " 23,\n",
              " 24,\n",
              " 25,\n",
              " 26,\n",
              " 27,\n",
              " 28,\n",
              " 29,\n",
              " 30]"
            ]
          },
          "metadata": {},
          "execution_count": 17
        }
      ],
      "source": [
        "x = [i for i in range(1,31)]\n",
        "x"
      ]
    },
    {
      "cell_type": "code",
      "source": [
        "y = [i for i in x if i%2==1]\n",
        "y"
      ],
      "metadata": {
        "colab": {
          "base_uri": "https://localhost:8080/"
        },
        "id": "H4NyZKClMj-W",
        "outputId": "8e89824c-26a7-47a1-9414-7b774483599b"
      },
      "id": "H4NyZKClMj-W",
      "execution_count": 18,
      "outputs": [
        {
          "output_type": "execute_result",
          "data": {
            "text/plain": [
              "[1, 3, 5, 7, 9, 11, 13, 15, 17, 19, 21, 23, 25, 27, 29]"
            ]
          },
          "metadata": {},
          "execution_count": 18
        }
      ]
    },
    {
      "cell_type": "code",
      "execution_count": null,
      "id": "885ffa3f",
      "metadata": {
        "id": "885ffa3f",
        "outputId": "7d876747-dab7-4455-dd14-2e4a9b0b579d"
      },
      "outputs": [
        {
          "data": {
            "text/plain": [
              "[1, 3, 5, 7, 9, 11, 13, 15, 17, 19, 21, 23, 25, 27, 29]"
            ]
          },
          "execution_count": 11,
          "metadata": {},
          "output_type": "execute_result"
        }
      ],
      "source": []
    },
    {
      "cell_type": "markdown",
      "id": "d8b8ef7b",
      "metadata": {
        "id": "d8b8ef7b"
      },
      "source": [
        "### Task 6\n",
        "Create a new list z with each element is a squre of the corresponding element from list y. You are not allowed to mannually type out the list"
      ]
    },
    {
      "cell_type": "code",
      "execution_count": 19,
      "id": "36e95073",
      "metadata": {
        "colab": {
          "base_uri": "https://localhost:8080/"
        },
        "id": "36e95073",
        "outputId": "a3a5d170-fc8b-456d-919f-78bf758d3d52"
      },
      "outputs": [
        {
          "output_type": "execute_result",
          "data": {
            "text/plain": [
              "[1, 9, 25, 49, 81, 121, 169, 225, 289, 361, 441, 529, 625, 729, 841]"
            ]
          },
          "metadata": {},
          "execution_count": 19
        }
      ],
      "source": [
        "z = [i*i for i in y]\n",
        "z"
      ]
    },
    {
      "cell_type": "code",
      "execution_count": null,
      "id": "eb22212d",
      "metadata": {
        "id": "eb22212d",
        "outputId": "3a1015b8-991d-43e4-eaac-fbc5e6925d1d"
      },
      "outputs": [
        {
          "data": {
            "text/plain": [
              "[1, 9, 25, 49, 81, 121, 169, 225, 289, 361, 441, 529, 625, 729, 841]"
            ]
          },
          "execution_count": 12,
          "metadata": {},
          "output_type": "execute_result"
        }
      ],
      "source": []
    },
    {
      "cell_type": "markdown",
      "id": "148610bf",
      "metadata": {
        "id": "148610bf"
      },
      "source": [
        "### Task 7\n",
        "Extract `[729, 625, 529, 441, 361, 289, 225, 169]` from list z. You are not allowed to mannually type out the list"
      ]
    },
    {
      "cell_type": "code",
      "execution_count": 20,
      "id": "ac19d388",
      "metadata": {
        "colab": {
          "base_uri": "https://localhost:8080/"
        },
        "id": "ac19d388",
        "outputId": "fa9e062f-c470-47f5-8d6b-0d52bbedef5b"
      },
      "outputs": [
        {
          "output_type": "execute_result",
          "data": {
            "text/plain": [
              "[729, 625, 529, 441, 361, 289, 225, 169]"
            ]
          },
          "metadata": {},
          "execution_count": 20
        }
      ],
      "source": [
        "z[-2:-10:-1]"
      ]
    },
    {
      "cell_type": "code",
      "execution_count": null,
      "id": "d1e261c4",
      "metadata": {
        "id": "d1e261c4",
        "outputId": "070cb2b1-87c4-4b40-ca05-0d0b39b07380"
      },
      "outputs": [
        {
          "data": {
            "text/plain": [
              "[729, 625, 529, 441, 361, 289, 225, 169]"
            ]
          },
          "execution_count": 14,
          "metadata": {},
          "output_type": "execute_result"
        }
      ],
      "source": []
    },
    {
      "cell_type": "markdown",
      "id": "faa59cf8",
      "metadata": {
        "id": "faa59cf8"
      },
      "source": [
        "### Task 8\n",
        "Reverse the order of z. You are not allowed to mannually type out the list"
      ]
    },
    {
      "cell_type": "code",
      "execution_count": 21,
      "id": "442059cc",
      "metadata": {
        "colab": {
          "base_uri": "https://localhost:8080/"
        },
        "id": "442059cc",
        "outputId": "4372e0f6-3ae3-40ad-faad-e6dcb617d732"
      },
      "outputs": [
        {
          "output_type": "execute_result",
          "data": {
            "text/plain": [
              "[841, 729, 625, 529, 441, 361, 289, 225, 169, 121, 81, 49, 25, 9, 1]"
            ]
          },
          "metadata": {},
          "execution_count": 21
        }
      ],
      "source": [
        "z[-1:-16:-1]"
      ]
    },
    {
      "cell_type": "code",
      "execution_count": null,
      "id": "c4468042",
      "metadata": {
        "id": "c4468042",
        "outputId": "08ff076e-2e30-4717-a30f-f019e50f4285"
      },
      "outputs": [
        {
          "data": {
            "text/plain": [
              "[841, 729, 625, 529, 441, 361, 289, 225, 169, 121, 81, 49, 25, 9, 1]"
            ]
          },
          "execution_count": 13,
          "metadata": {},
          "output_type": "execute_result"
        }
      ],
      "source": []
    },
    {
      "cell_type": "markdown",
      "id": "a5f86fed",
      "metadata": {
        "id": "a5f86fed"
      },
      "source": [
        "### Task 9\n",
        "Given the following list, extract the string 'Get Me'"
      ]
    },
    {
      "cell_type": "code",
      "execution_count": 22,
      "id": "99b61963",
      "metadata": {
        "colab": {
          "base_uri": "https://localhost:8080/",
          "height": 36
        },
        "id": "99b61963",
        "outputId": "bafe5633-792f-40f5-c231-6b978c950626"
      },
      "outputs": [
        {
          "output_type": "execute_result",
          "data": {
            "text/plain": [
              "'Get Me'"
            ],
            "application/vnd.google.colaboratory.intrinsic+json": {
              "type": "string"
            }
          },
          "metadata": {},
          "execution_count": 22
        }
      ],
      "source": [
        "lst = [1, 2, [3, 4], [5, [100, 200, ['Get Me']], 300, 11], 1, 9]\n",
        "lst[3][1][2][0]\n"
      ]
    },
    {
      "cell_type": "code",
      "execution_count": null,
      "id": "0e8f451a",
      "metadata": {
        "id": "0e8f451a",
        "outputId": "be0ec9a2-120b-44cd-d1c0-df8627747bc9"
      },
      "outputs": [
        {
          "data": {
            "text/plain": [
              "'Get Me'"
            ]
          },
          "execution_count": 22,
          "metadata": {},
          "output_type": "execute_result"
        }
      ],
      "source": []
    },
    {
      "cell_type": "markdown",
      "id": "4a4ba88f",
      "metadata": {
        "id": "4a4ba88f"
      },
      "source": [
        "### Task 10\n",
        "Sort the following list of strings by their lengths. You are not allowed to mannually type out the list"
      ]
    },
    {
      "cell_type": "code",
      "execution_count": 26,
      "id": "a7a3ff33",
      "metadata": {
        "colab": {
          "base_uri": "https://localhost:8080/"
        },
        "id": "a7a3ff33",
        "outputId": "8b3f6e7f-675d-4a2b-f4f8-1ae41366812f"
      },
      "outputs": [
        {
          "output_type": "execute_result",
          "data": {
            "text/plain": [
              "['a', 'bb', 'ccc', 'dddd', 'eeeee', 'ffffff', 'ggggggg']"
            ]
          },
          "metadata": {},
          "execution_count": 26
        }
      ],
      "source": [
        "x = ['ccc', 'dddd', 'bb', 'ggggggg', 'a', 'eeeee', 'ffffff']\n",
        "\n",
        "x.sort()\n",
        "x"
      ]
    },
    {
      "cell_type": "code",
      "execution_count": null,
      "id": "477f0495",
      "metadata": {
        "id": "477f0495",
        "outputId": "355205b6-2699-4a03-e96e-a0e2319d6ddc"
      },
      "outputs": [
        {
          "data": {
            "text/plain": [
              "['a', 'bb', 'ccc', 'dddd', 'eeeee', 'ffffff', 'ggggggg']"
            ]
          },
          "execution_count": 19,
          "metadata": {},
          "output_type": "execute_result"
        }
      ],
      "source": []
    },
    {
      "cell_type": "markdown",
      "id": "b51c2254",
      "metadata": {
        "id": "b51c2254"
      },
      "source": [
        "### Task 11\n",
        "Extract the string 'Get Me' from the following dictionary d"
      ]
    },
    {
      "cell_type": "code",
      "execution_count": 27,
      "id": "8a43df80",
      "metadata": {
        "colab": {
          "base_uri": "https://localhost:8080/",
          "height": 36
        },
        "id": "8a43df80",
        "outputId": "2be567f7-479b-47db-aa1d-6b6456319224"
      },
      "outputs": [
        {
          "output_type": "execute_result",
          "data": {
            "text/plain": [
              "'Get Me'"
            ],
            "application/vnd.google.colaboratory.intrinsic+json": {
              "type": "string"
            }
          },
          "metadata": {},
          "execution_count": 27
        }
      ],
      "source": [
        "d = {'k1':[1, 2, 3, {'tricky':['oh', 'man', 'crazy', {'target':[1, 2, 3, 'Get Me']}]}]}\n",
        "d['k1'][3]['tricky'][3]['target'][3]"
      ]
    },
    {
      "cell_type": "code",
      "execution_count": null,
      "id": "4184c435",
      "metadata": {
        "id": "4184c435",
        "outputId": "aabe28c1-5570-40d4-8503-0746117cfa3b"
      },
      "outputs": [
        {
          "data": {
            "text/plain": [
              "'Get Me'"
            ]
          },
          "execution_count": 21,
          "metadata": {},
          "output_type": "execute_result"
        }
      ],
      "source": []
    },
    {
      "cell_type": "markdown",
      "id": "8fa3e925",
      "metadata": {
        "id": "8fa3e925"
      },
      "source": [
        "### Task 12\n",
        "Use lambda expressions and the `filter()` function to filter out words from the following list that don't start with the letter 's'"
      ]
    },
    {
      "cell_type": "code",
      "execution_count": 28,
      "id": "4a023ebc",
      "metadata": {
        "id": "4a023ebc"
      },
      "outputs": [],
      "source": [
        "seq = ['soup', 'apple', 'salad', 'banana', 'spaghetti', 'spinach', 'kiwi']\n"
      ]
    },
    {
      "cell_type": "code",
      "source": [
        "list(filter(lambda s: not s.startswith('s'), seq))"
      ],
      "metadata": {
        "colab": {
          "base_uri": "https://localhost:8080/"
        },
        "id": "wtZzaf8ENpOV",
        "outputId": "cc109a06-ca21-4192-c1ed-b24a06e47903"
      },
      "id": "wtZzaf8ENpOV",
      "execution_count": 29,
      "outputs": [
        {
          "output_type": "execute_result",
          "data": {
            "text/plain": [
              "['apple', 'banana', 'kiwi']"
            ]
          },
          "metadata": {},
          "execution_count": 29
        }
      ]
    },
    {
      "cell_type": "code",
      "execution_count": null,
      "id": "9c90a4f6",
      "metadata": {
        "id": "9c90a4f6",
        "outputId": "437a6b9a-3f8c-47de-a9ce-12f90f1eee73"
      },
      "outputs": [
        {
          "data": {
            "text/plain": [
              "['apple', 'banana', 'kiwi']"
            ]
          },
          "execution_count": 1,
          "metadata": {},
          "output_type": "execute_result"
        }
      ],
      "source": []
    },
    {
      "cell_type": "markdown",
      "id": "66db071e",
      "metadata": {
        "id": "66db071e"
      },
      "source": [
        "### Task 13\n",
        "Count the number of unique characters in the following string s. Please ignore the white space and character case. For example, 'P' and 'p' are considered as one character"
      ]
    },
    {
      "cell_type": "code",
      "execution_count": 30,
      "id": "9a360418",
      "metadata": {
        "colab": {
          "base_uri": "https://localhost:8080/"
        },
        "id": "9a360418",
        "outputId": "cf8188aa-ecca-44aa-c704-1f6523bd50dd"
      },
      "outputs": [
        {
          "output_type": "execute_result",
          "data": {
            "text/plain": [
              "14"
            ]
          },
          "metadata": {},
          "execution_count": 30
        }
      ],
      "source": [
        "s = 'Python programming is fun'\n",
        "len(set(l.lower() for l in s if l!=' '))"
      ]
    },
    {
      "cell_type": "code",
      "execution_count": null,
      "id": "81e5bbb0",
      "metadata": {
        "id": "81e5bbb0",
        "outputId": "5ec4fac8-bbf9-4d67-acd6-6032c95bba0a"
      },
      "outputs": [
        {
          "data": {
            "text/plain": [
              "14"
            ]
          },
          "execution_count": 29,
          "metadata": {},
          "output_type": "execute_result"
        }
      ],
      "source": []
    },
    {
      "cell_type": "markdown",
      "id": "00b64768",
      "metadata": {
        "id": "00b64768"
      },
      "source": [
        "### Task 14\n",
        "Use lambda expressions and the `map()` function to count the length of each string in the list"
      ]
    },
    {
      "cell_type": "code",
      "execution_count": 31,
      "id": "b735d5e5",
      "metadata": {
        "colab": {
          "base_uri": "https://localhost:8080/"
        },
        "id": "b735d5e5",
        "outputId": "38761866-b54c-4775-866d-7664177c9c68"
      },
      "outputs": [
        {
          "output_type": "execute_result",
          "data": {
            "text/plain": [
              "[4, 5, 5, 6, 9, 7, 4]"
            ]
          },
          "metadata": {},
          "execution_count": 31
        }
      ],
      "source": [
        "seq = ['soup', 'apple', 'salad', 'banana', 'spaghetti', 'spinach', 'kiwi']\n",
        "list(map(lambda s: len(s), seq))\n"
      ]
    },
    {
      "cell_type": "code",
      "execution_count": null,
      "id": "541bf0e6",
      "metadata": {
        "id": "541bf0e6",
        "outputId": "31f5e927-5c17-4714-92d2-bf50a124141d"
      },
      "outputs": [
        {
          "data": {
            "text/plain": [
              "[4, 5, 5, 6, 9, 7, 4]"
            ]
          },
          "execution_count": 2,
          "metadata": {},
          "output_type": "execute_result"
        }
      ],
      "source": []
    },
    {
      "cell_type": "markdown",
      "id": "aeed3974",
      "metadata": {
        "id": "aeed3974"
      },
      "source": [
        "### Task 15\n",
        "Create a function that counts the number of times the word 'dog' occurs in a string. Ignore edge cases."
      ]
    },
    {
      "cell_type": "code",
      "execution_count": 33,
      "id": "3940870f",
      "metadata": {
        "colab": {
          "base_uri": "https://localhost:8080/"
        },
        "id": "3940870f",
        "outputId": "45d61152-d712-419d-f13d-8caddea0fa7f"
      },
      "outputs": [
        {
          "output_type": "execute_result",
          "data": {
            "text/plain": [
              "3"
            ]
          },
          "metadata": {},
          "execution_count": 33
        }
      ],
      "source": [
        "\n",
        "\n",
        "def countDog(s):\n",
        "    return s.lower().split().count('dog')\n",
        "countDog('This dog looks differently from that dog in the dog shelter!')"
      ]
    },
    {
      "cell_type": "code",
      "execution_count": null,
      "id": "13bc2166",
      "metadata": {
        "id": "13bc2166",
        "outputId": "fd7f2a7d-e067-4c8c-8ab7-9596bf5d71e7"
      },
      "outputs": [
        {
          "data": {
            "text/plain": [
              "3"
            ]
          },
          "execution_count": 34,
          "metadata": {},
          "output_type": "execute_result"
        }
      ],
      "source": []
    },
    {
      "cell_type": "markdown",
      "id": "05cd0e30",
      "metadata": {
        "id": "05cd0e30"
      },
      "source": [
        "### Task 16\n",
        "Write a `for` loop to process employee information listed in the cell below. For each employee with Level 1, increase the salary by 2000 and adjust the Level from 1 to 2. Display all employee information afterwards."
      ]
    },
    {
      "cell_type": "code",
      "execution_count": 34,
      "id": "df89576e",
      "metadata": {
        "id": "df89576e"
      },
      "outputs": [],
      "source": [
        "employee = {\n",
        "    'Elon Musk':{'Department':'Sales', 'Salary':6000, 'Level':2},\n",
        "    'Bill Gates': {'Department':'Engineering', 'Salary':10000, 'Level':3},\n",
        "    'Donald Trump':{'Department':'Public Relations', 'Salary':3000, 'Level':1},\n",
        "    'Joe Biden':{'Department':'Human Resources', 'Salary':5000, 'Level':2},\n",
        "    'Mark Zuckerberg':{'Department':'Engineering', 'Salary':10000, 'Level':3},\n",
        "    'Jensen Huang':{'Department':'Sales', 'Salary':4000, 'Level':1}\n",
        "}"
      ]
    },
    {
      "cell_type": "code",
      "execution_count": 37,
      "id": "2a107723",
      "metadata": {
        "colab": {
          "base_uri": "https://localhost:8080/"
        },
        "id": "2a107723",
        "outputId": "c49d4f5a-3a89-4fc9-c3a8-7e1d63ebe141"
      },
      "outputs": [
        {
          "output_type": "execute_result",
          "data": {
            "text/plain": [
              "{'Elon Musk': {'Department': 'Sales', 'Salary': 6000, 'Level': 2},\n",
              " 'Bill Gates': {'Department': 'Engineering', 'Salary': 10000, 'Level': 3},\n",
              " 'Donald Trump': {'Department': 'Public Relations',\n",
              "  'Salary': 5000,\n",
              "  'Level': 2},\n",
              " 'Joe Biden': {'Department': 'Human Resources', 'Salary': 5000, 'Level': 2},\n",
              " 'Mark Zuckerberg': {'Department': 'Engineering', 'Salary': 10000, 'Level': 3},\n",
              " 'Jensen Huang': {'Department': 'Sales', 'Salary': 6000, 'Level': 2}}"
            ]
          },
          "metadata": {},
          "execution_count": 37
        }
      ],
      "source": [
        "for name, info in employee.items():\n",
        "    if info['Level'] == 1:\n",
        "        info['Salary'] += 2000\n",
        "        info['Level'] = 2\n",
        "employee"
      ]
    },
    {
      "cell_type": "code",
      "execution_count": null,
      "id": "42bbe4ec",
      "metadata": {
        "id": "42bbe4ec",
        "outputId": "f1736d1e-078f-43c5-c3f5-bff68b19c4e7"
      },
      "outputs": [
        {
          "name": "stdout",
          "output_type": "stream",
          "text": [
            "{'Elon Musk': {'Department': 'Sales', 'Salary': 6000, 'Level': 2}, 'Bill Gates': {'Department': 'Engineering', 'Salary': 10000, 'Level': 3}, 'Donald Trump': {'Department': 'Public Relations', 'Salary': 5000, 'Level': 2}, 'Joe Biden': {'Department': 'Human Resources', 'Salary': 5000, 'Level': 2}, 'Mark Zuckerberg': {'Department': 'Engineering', 'Salary': 10000, 'Level': 3}, 'Jensen Huang': {'Department': 'Sales', 'Salary': 6000, 'Level': 2}}\n"
          ]
        }
      ],
      "source": []
    }
  ],
  "metadata": {
    "kernelspec": {
      "display_name": "Python 3 (ipykernel)",
      "language": "python",
      "name": "python3"
    },
    "language_info": {
      "codemirror_mode": {
        "name": "ipython",
        "version": 3
      },
      "file_extension": ".py",
      "mimetype": "text/x-python",
      "name": "python",
      "nbconvert_exporter": "python",
      "pygments_lexer": "ipython3",
      "version": "3.9.13"
    },
    "colab": {
      "provenance": [],
      "include_colab_link": true
    }
  },
  "nbformat": 4,
  "nbformat_minor": 5
}